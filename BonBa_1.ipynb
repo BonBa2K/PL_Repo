{
 "cells": [
  {
   "cell_type": "code",
   "execution_count": 3,
   "id": "94bd3a8d",
   "metadata": {},
   "outputs": [
    {
     "name": "stdout",
     "output_type": "stream",
     "text": [
      "被告要賠： 17981 元\n",
      "原告要賠： 7706 元\n"
     ]
    }
   ],
   "source": [
    "defendant=0.7\n",
    "plaintiff=0.3\n",
    "compensation=25688\n",
    "print(\"被告要賠：\",int(defendant*compensation),\"元\")\n",
    "print(\"原告要賠：\",int(plaintiff*compensation),\"元\")"
   ]
  },
  {
   "cell_type": "code",
   "execution_count": null,
   "id": "bc7738d9",
   "metadata": {},
   "outputs": [
    {
     "name": "stdout",
     "output_type": "stream",
     "text": [
      "請輸入繳清月份：2\n",
      "請輸入繳清日期：15\n",
      "總共償還金額： 12712 元\n"
     ]
    }
   ],
   "source": [
    "month=1\n",
    "while month!=-1:\n",
    "    compensation=11805\n",
    "    month=input(\"請輸入繳清月份：\")\n",
    "    date=input(\"請輸入繳清日期：\")\n",
    "    month=int(month)\n",
    "    date=int(date)\n",
    "    sum_money=compensation*(1.0005)**(month*30 + int(month/2) + date)+150*(month*(month+1)/2)\n",
    "    print(\"總共償還金額：\",int(sum_money),\"元\")"
   ]
  },
  {
   "cell_type": "code",
   "execution_count": 1,
   "id": "755264d5",
   "metadata": {},
   "outputs": [
    {
     "name": "stdout",
     "output_type": "stream",
     "text": [
      "請輸入案件:JOJO\n",
      "請填入有效訊息\n"
     ]
    }
   ],
   "source": [
    "event=input(\"請輸入案件:\")\n",
    "\n",
    "if event ==\"被告闖紅燈\":\n",
    "    print(\"被告賠100%\")\n",
    "elif event ==\"原告闖紅燈\":\n",
    "    print(\"原告多被告少\")\n",
    "elif event==\"被告原告皆闖紅燈\":\n",
    "    print(\"原告50%被告50%\")\n",
    "else:\n",
    "    print(\"請填入有效訊息\")"
   ]
  },
  {
   "cell_type": "code",
   "execution_count": null,
   "id": "bbc70ef7",
   "metadata": {},
   "outputs": [],
   "source": []
  }
 ],
 "metadata": {
  "kernelspec": {
   "display_name": "Python 3 (ipykernel)",
   "language": "python",
   "name": "python3"
  },
  "language_info": {
   "codemirror_mode": {
    "name": "ipython",
    "version": 3
   },
   "file_extension": ".py",
   "mimetype": "text/x-python",
   "name": "python",
   "nbconvert_exporter": "python",
   "pygments_lexer": "ipython3",
   "version": "3.9.12"
  }
 },
 "nbformat": 4,
 "nbformat_minor": 5
}
