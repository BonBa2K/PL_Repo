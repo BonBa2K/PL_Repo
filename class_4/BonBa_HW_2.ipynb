{
 "cells": [
  {
   "cell_type": "code",
   "execution_count": 1,
   "id": "f6fb833a",
   "metadata": {
    "scrolled": true
   },
   "outputs": [
    {
     "data": {
      "text/plain": [
       "dict"
      ]
     },
     "execution_count": 1,
     "metadata": {},
     "output_type": "execute_result"
    }
   ],
   "source": [
    "import json \n",
    "Climbing_Gym_Price = open('Climbing_Gym_Price.json',encoding=\"utf8\")\n",
    "json_object=json.load(Climbing_Gym_Price)\n",
    "type(json_object)"
   ]
  },
  {
   "cell_type": "code",
   "execution_count": 2,
   "id": "ea54de11",
   "metadata": {},
   "outputs": [
    {
     "data": {
      "text/plain": [
       "dict_items([('classes', [{'class': 'Adult', 'age_requirement': 1000, 'price': {'morning': 250, 'afternoon': 300, 'night': 350, 'Late Night': 250, 'Full Day': 380}}, {'class': 'Student', 'age_requirement': 24, 'price': {'morning': 200, 'afternoon': 230, 'night': 270, 'Late Night': 200, 'Full Day': 300}}, {'class': 'Child', 'age_requirement': 12, 'price': {'morning': 200, 'afternoon': 200, 'night': 200, 'Late Night': 200, 'Full Day': 180}}, {'class': 'Juvenile', 'age_requirement': 6, 'price': {'morning': 150, 'afternoon': 150, 'night': 150, 'Late Night': 150, 'Full Day': 150}}])])"
      ]
     },
     "execution_count": 2,
     "metadata": {},
     "output_type": "execute_result"
    }
   ],
   "source": [
    "json_object.items()"
   ]
  },
  {
   "cell_type": "code",
   "execution_count": 3,
   "id": "db51ee5b",
   "metadata": {},
   "outputs": [
    {
     "data": {
      "text/plain": [
       "[{'class': 'Adult',\n",
       "  'age_requirement': 1000,\n",
       "  'price': {'morning': 250,\n",
       "   'afternoon': 300,\n",
       "   'night': 350,\n",
       "   'Late Night': 250,\n",
       "   'Full Day': 380}},\n",
       " {'class': 'Student',\n",
       "  'age_requirement': 24,\n",
       "  'price': {'morning': 200,\n",
       "   'afternoon': 230,\n",
       "   'night': 270,\n",
       "   'Late Night': 200,\n",
       "   'Full Day': 300}},\n",
       " {'class': 'Child',\n",
       "  'age_requirement': 12,\n",
       "  'price': {'morning': 200,\n",
       "   'afternoon': 200,\n",
       "   'night': 200,\n",
       "   'Late Night': 200,\n",
       "   'Full Day': 180}},\n",
       " {'class': 'Juvenile',\n",
       "  'age_requirement': 6,\n",
       "  'price': {'morning': 150,\n",
       "   'afternoon': 150,\n",
       "   'night': 150,\n",
       "   'Late Night': 150,\n",
       "   'Full Day': 150}}]"
      ]
     },
     "execution_count": 3,
     "metadata": {},
     "output_type": "execute_result"
    }
   ],
   "source": [
    "field = json_object.get('classes')\n",
    "field"
   ]
  },
  {
   "cell_type": "code",
   "execution_count": 4,
   "id": "83b5b68a",
   "metadata": {
    "scrolled": true
   },
   "outputs": [
    {
     "name": "stdout",
     "output_type": "stream",
     "text": [
      "welcome to T-up Price for Weekdays Search system\n",
      "\n",
      "please enter your age : 23\n"
     ]
    }
   ],
   "source": [
    "print(\"welcome to T-up Price for Weekdays Search system\\n\")\n",
    "ask = int(input(\"please enter your age : \"))"
   ]
  },
  {
   "cell_type": "code",
   "execution_count": 5,
   "id": "63b75d57",
   "metadata": {
    "scrolled": false
   },
   "outputs": [
    {
     "data": {
      "text/plain": [
       "{'class': 'Student',\n",
       " 'age_requirement': 24,\n",
       " 'price': {'morning': 200,\n",
       "  'afternoon': 230,\n",
       "  'night': 270,\n",
       "  'Late Night': 200,\n",
       "  'Full Day': 300}}"
      ]
     },
     "execution_count": 5,
     "metadata": {},
     "output_type": "execute_result"
    }
   ],
   "source": [
    "for i in field:\n",
    "    if ask <= i.get('age_requirement'):  \n",
    "        Taget_class= i\n",
    "Taget_class"
   ]
  },
  {
   "cell_type": "code",
   "execution_count": 6,
   "id": "82fcfcf4",
   "metadata": {},
   "outputs": [
    {
     "data": {
      "text/plain": [
       "[200, 230, 270, 200, 300]"
      ]
     },
     "execution_count": 6,
     "metadata": {},
     "output_type": "execute_result"
    }
   ],
   "source": [
    "allprice = []\n",
    "for i in Taget_class.get('price'):\n",
    "    allprice.append(Taget_class['price'][i])\n",
    "allprice"
   ]
  },
  {
   "cell_type": "code",
   "execution_count": 7,
   "id": "3f14ac85",
   "metadata": {},
   "outputs": [
    {
     "data": {
      "text/plain": [
       "[(1, 200), (4, 200), (2, 230), (3, 270), (5, 300)]"
      ]
     },
     "execution_count": 7,
     "metadata": {},
     "output_type": "execute_result"
    }
   ],
   "source": [
    "allprice_enumerate = enumerate(allprice, start = 1)\n",
    "allprice_enumerate_sorted = sorted(allprice_enumerate, key = lambda s: s[1], reverse = False)\n",
    "allprice_enumerate_sorted"
   ]
  },
  {
   "cell_type": "code",
   "execution_count": 8,
   "id": "674b8f08",
   "metadata": {},
   "outputs": [
    {
     "name": "stdout",
     "output_type": "stream",
     "text": [
      "23 歲要用 Student 票\n",
      "Student 票的 morning 時段價位是:  200 元\n",
      "Student 票的 Late Night 時段價位是:  200 元\n",
      "Student 票的 afternoon 時段價位是:  230 元\n",
      "Student 票的 night 時段價位是:  270 元\n",
      "Student 票的 Full Day 時段價位是:  300 元\n"
     ]
    }
   ],
   "source": [
    "ex =-1\n",
    "print(ask, '歲要用',Taget_class.get('class'), '票')    \n",
    "for i in allprice_enumerate_sorted:\n",
    "    j = i[1]\n",
    "    for time,price in Taget_class['price'].items():  # for name, age in dictionary.iteritems():  (for Python 2.x)\n",
    "        if price == j and ex != j:\n",
    "            print(Taget_class['class'],'票的',time,'時段價位是: ',j, '元')\n",
    "    ex = i[1]"
   ]
  }
 ],
 "metadata": {
  "kernelspec": {
   "display_name": "Python 3 (ipykernel)",
   "language": "python",
   "name": "python3"
  },
  "language_info": {
   "codemirror_mode": {
    "name": "ipython",
    "version": 3
   },
   "file_extension": ".py",
   "mimetype": "text/x-python",
   "name": "python",
   "nbconvert_exporter": "python",
   "pygments_lexer": "ipython3",
   "version": "3.9.12"
  }
 },
 "nbformat": 4,
 "nbformat_minor": 5
}
